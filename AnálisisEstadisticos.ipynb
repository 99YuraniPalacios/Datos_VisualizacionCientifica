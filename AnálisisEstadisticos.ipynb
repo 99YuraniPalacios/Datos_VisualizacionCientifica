{
 "cells": [
  {
   "cell_type": "markdown",
   "metadata": {},
   "source": [
    "# Análisis e interpretación de Resultados"
   ]
  },
  {
   "cell_type": "markdown",
   "metadata": {},
   "source": [
    "El conjunto de datos que se utilizó para realizar el proyecto, contiene 18 columnas, las cuales tienen el porcentaje de mujeres en estados unidos que en cada año desde 1970 hasta 2011 han realizado licenciaturas en diferentes areas profesionales.  \n",
    "\n",
    "Los datos fueron leidos con **Pandas** la cual es una librería que proporciona estructuras de datos flexibles y permite trabajar con la información de forma eficiente. **Pandas** ofrece varias estructuras de datos que resultarán de mucha utilidad. Todas las posibles estructuras de datos que ofrece al día de hoy son:  \n",
    "\n",
    "* Series (y TimeSeries)  \n",
    "* DataFrame  \n",
    "* Panel  \n",
    "* Panel4D  \n",
    "* PanelND   "
   ]
  },
  {
   "cell_type": "markdown",
   "metadata": {},
   "source": [
    "# Diagrama de caja y bigotes"
   ]
  },
  {
   "cell_type": "markdown",
   "metadata": {},
   "source": [
    "El diagrama de caja y bigotes se realiza basicamente para determinar cual o cuales de las licenciaturas son las que han tenido un porcentaje mayor de mujeres inscritas desde los primeros años y cuales empezaron en años más recientes, de la misma manera se puede determinar que profesiones tuvieron una cantidad de egresadas estable y cuales aumentaron o disminuyeron.\n",
    "\n",
    "* Las licenciaturas que en 1970 iniciaron con un porcentaje mayor al 70% de mujeres en esas areas fueron:\n",
    "    + Educación \n",
    "    + Idiomas \n",
    "    + Salud \n",
    "    \n",
    "* De igual manera se puede concluir que las licenciaturas en las cuales el porcentaje de mujeres al principio eran bajas pero que con el pasar de los años fue tomando fuerza eran:\n",
    "    + Agricultura\n",
    "    + Arquitectura \n",
    "    + Negocios \n",
    "    + Computación \n",
    "    + Ingeniería"
   ]
  },
  {
   "cell_type": "markdown",
   "metadata": {},
   "source": [
    "# Diagrama de Violín"
   ]
  },
  {
   "cell_type": "markdown",
   "metadata": {},
   "source": [
    "Con el diagrama de violín se facilita ver cuando hubo una disminución notable en el porcentaje de mujeres con licenciatura en determinada area.\n",
    "\n",
    "* Se puede concluir que _Idiomas_ que empezó con un porcentaje muy cercano al 70% disminuyó con el pasar del tiempo.\n",
    "* Así mismo se pudo notar que en _Computacíon_ se presentó una variación, primero un porcentaje pequeño, luego aumento, y por ultimo volvio a disminuir."
   ]
  },
  {
   "cell_type": "markdown",
   "metadata": {},
   "source": [
    "# Coordenadas Paralelas"
   ]
  },
  {
   "cell_type": "markdown",
   "metadata": {},
   "source": [
    "Las coordenadas paralelas son una técnica de trazado para trazar datos multivariables. Cada línea vertical representa un año, en este caso se tomaron hasta 1990 para hacer más ameno el gráfico. Un conjunto de segmentos de línea conectados representan el punto de cada una de las licenciaturas.\n",
    "\n",
    "La forma del gráfico dejó ver que licenciaturas tuvieron un porcentaje mayor de mujeres inscritas y en cuales años estas mismas disminuyeron sus porcentajes."
   ]
  }
 ],
 "metadata": {
  "kernelspec": {
   "display_name": "Python 2",
   "language": "python",
   "name": "python2"
  },
  "language_info": {
   "codemirror_mode": {
    "name": "ipython",
    "version": 2
   },
   "file_extension": ".py",
   "mimetype": "text/x-python",
   "name": "python",
   "nbconvert_exporter": "python",
   "pygments_lexer": "ipython2",
   "version": "2.7.12"
  }
 },
 "nbformat": 4,
 "nbformat_minor": 2
}
